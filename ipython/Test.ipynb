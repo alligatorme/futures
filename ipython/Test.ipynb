{
 "cells": [
  {
   "cell_type": "code",
   "execution_count": 9,
   "metadata": {},
   "outputs": [
    {
     "name": "stdout",
     "output_type": "stream",
     "text": [
      "<class 'generator'>\n"
     ]
    },
    {
     "data": {
      "text/plain": [
       "-0.67299868505157878"
      ]
     },
     "execution_count": 9,
     "metadata": {},
     "output_type": "execute_result"
    }
   ],
   "source": [
    "import pandas as pd\n",
    "import numpy as np\n",
    "dates = pd.date_range('1/1/2000', periods=80)\n",
    "df = pd.DataFrame(np.random.randn(80, 4), index=dates, columns=['A', 'B', 'C', 'D'])\n",
    "af=df.index[20:40]\n",
    "df[df.index.isin(af)]\n",
    "itr=df.iterrows()\n",
    "\n",
    "# print(itr.__next__())\n",
    "\n",
    "# type(itr.__next__())\n",
    "print(type(itr))\n",
    "\n",
    "df.iat[2,2]"
   ]
  },
  {
   "cell_type": "code",
   "execution_count": 1,
   "metadata": {},
   "outputs": [
    {
     "name": "stdout",
     "output_type": "stream",
     "text": [
      "(0, 1)\n",
      "(1, 3)\n",
      "(3, 5)\n",
      "(5, 7)\n",
      "(7, 9)\n",
      "(9, -1)\n"
     ]
    }
   ],
   "source": [
    "def divide():\n",
    "    idx=[1,3,5,7,9]\n",
    "    div=(i for i in idx)\n",
    "    start=0\n",
    "    for i in div:\n",
    "        yield (start,i)\n",
    "        start=i\n",
    "    yield (start,-1)\n",
    "p=divide()\n",
    "for i in p:\n",
    "    print(i)"
   ]
  },
  {
   "cell_type": "code",
   "execution_count": 25,
   "metadata": {},
   "outputs": [
    {
     "name": "stdout",
     "output_type": "stream",
     "text": [
      "[1 2 3 4 5 6] [1 2 3 4 5 6]\n"
     ]
    }
   ],
   "source": [
    "import numpy as np\n",
    "idx=np.array([1,3,5,7,9])\n",
    "a=np.nditer(idx)\n",
    "# print(a.__next__(),a.__next__())\n",
    "b=np.arange('2005-02', '2006-03', dtype='datetime64[D]')\n",
    "# c=map(b.__index__(),['2005-02-21', '2006-02-01'])\n",
    "c=np.array([1, 2, 3, 4, 5, 6])\n",
    "# c=zip(*([iter(c)]*2))\n",
    "print(*([c]*2))"
   ]
  },
  {
   "cell_type": "code",
   "execution_count": 29,
   "metadata": {},
   "outputs": [
    {
     "name": "stdout",
     "output_type": "stream",
     "text": [
      "[5, 7]\n"
     ]
    }
   ],
   "source": [
    "a=b=[]\n",
    "a.append(5)\n",
    "b.append(7)\n",
    "print(b)"
   ]
  }
 ],
 "metadata": {
  "kernelspec": {
   "display_name": "Python 3",
   "language": "python",
   "name": "python3"
  },
  "language_info": {
   "codemirror_mode": {
    "name": "ipython",
    "version": 3
   },
   "file_extension": ".py",
   "mimetype": "text/x-python",
   "name": "python",
   "nbconvert_exporter": "python",
   "pygments_lexer": "ipython3",
   "version": "3.4.4"
  }
 },
 "nbformat": 4,
 "nbformat_minor": 2
}
