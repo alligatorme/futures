{
 "cells": [
  {
   "cell_type": "code",
   "execution_count": 9,
   "metadata": {},
   "outputs": [
    {
     "name": "stdout",
     "output_type": "stream",
     "text": [
      "<class 'generator'>\n"
     ]
    },
    {
     "data": {
      "text/plain": [
       "-0.67299868505157878"
      ]
     },
     "execution_count": 9,
     "metadata": {},
     "output_type": "execute_result"
    }
   ],
   "source": [
    "import pandas as pd\n",
    "import numpy as np\n",
    "dates = pd.date_range('1/1/2000', periods=80)\n",
    "df = pd.DataFrame(np.random.randn(80, 4), index=dates, columns=['A', 'B', 'C', 'D'])\n",
    "af=df.index[20:40]\n",
    "df[df.index.isin(af)]\n",
    "itr=df.iterrows()\n",
    "\n",
    "# print(itr.__next__())\n",
    "\n",
    "# type(itr.__next__())\n",
    "print(type(itr))\n",
    "\n",
    "df.iat[2,2]"
   ]
  },
  {
   "cell_type": "code",
   "execution_count": 6,
   "metadata": {},
   "outputs": [
    {
     "name": "stdout",
     "output_type": "stream",
     "text": [
      "(0, 1)\n",
      "(1, 3)\n",
      "(3, 5)\n",
      "(5, 7)\n",
      "(7, 9)\n",
      "(9, -1)\n"
     ]
    }
   ],
   "source": [
    "def divide():\n",
    "    idx=[1,3,5,7,9]\n",
    "    div=(i for i in idx)\n",
    "    start=0\n",
    "    for i in div:\n",
    "        yield (start,i)\n",
    "        start=i\n",
    "    yield (start,-1)\n",
    "p=divide()\n",
    "for i in p:\n",
    "    print(i)"
   ]
  }
 ],
 "metadata": {
  "kernelspec": {
   "display_name": "Python 3",
   "language": "python",
   "name": "python3"
  },
  "language_info": {
   "codemirror_mode": {
    "name": "ipython",
    "version": 3
   },
   "file_extension": ".py",
   "mimetype": "text/x-python",
   "name": "python",
   "nbconvert_exporter": "python",
   "pygments_lexer": "ipython3",
   "version": "3.4.4"
  }
 },
 "nbformat": 4,
 "nbformat_minor": 2
}
